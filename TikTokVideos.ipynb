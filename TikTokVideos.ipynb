{
 "cells": [
  {
   "cell_type": "markdown",
   "id": "412bf0fc-cd03-4fc5-963c-4800638a87f8",
   "metadata": {},
   "source": [
    "We will try to use a dataset of TikTok videos and classify each as 'safe', or 'misinformation'."
   ]
  },
  {
   "cell_type": "code",
   "execution_count": 17,
   "id": "fe6ae543-6110-4ca6-ad4c-bfce04a59a1a",
   "metadata": {},
   "outputs": [],
   "source": [
    "import os\n",
    "\n",
    "os.environ[\"GOOGLE_APPLICATION_CREDENTIALS\"] = \"/home/teo/Downloads/psyched-freedom-182221-658209fdfd55.json\"\n",
    "\n",
    "import time\n",
    "from google.cloud import videointelligence_v1 as videointelligence\n",
    "\n",
    "\n",
    "\n",
    "def transcribe_video(file_path):\n",
    "    # Initialize the Video Intelligence API client\n",
    "    client = videointelligence.VideoIntelligenceServiceClient()\n",
    "\n",
    "    # Read the file and load it into the API\n",
    "    with open(file_path, \"rb\") as video_file:\n",
    "        input_content = video_file.read()\n",
    "\n",
    "    # Configure the request for speech transcription\n",
    "    features = [videointelligence.Feature.SPEECH_TRANSCRIPTION]\n",
    "    config = videointelligence.SpeechTranscriptionConfig(\n",
    "        language_code=\"en-US\"  # Adjust language if needed\n",
    "    )\n",
    "    video_context = videointelligence.VideoContext(speech_transcription_config=config)\n",
    "\n",
    "    # Start the operation\n",
    "    operation = client.annotate_video(\n",
    "        request={\"features\": features, \"input_content\": input_content, \"video_context\": video_context}\n",
    "    )\n",
    "\n",
    "    print(f\"Started transcription for {file_path}... Waiting for completion.\")\n",
    "\n",
    "    # Poll the operation status until it completes\n",
    "    while not operation.done():\n",
    "        print(\"Waiting for transcription to finish...\")\n",
    "        time.sleep(10)  # Wait 10 seconds between checks\n",
    "\n",
    "    # Process results after the operation is done\n",
    "    if operation.result():\n",
    "        result = operation.result()\n",
    "        transcription_text = \"\"\n",
    "        for annotation in result.annotation_results[0].speech_transcriptions:\n",
    "            for alternative in annotation.alternatives:\n",
    "                transcription_text += alternative.transcript + \" \"\n",
    "        return transcription_text.strip()\n",
    "    else:\n",
    "        print(f\"Transcription failed for {file_path}\")\n",
    "        return \"\"\n"
   ]
  },
  {
   "cell_type": "code",
   "execution_count": 25,
   "id": "e7084c10-82f4-44b3-84f5-6ee3dcbc44a9",
   "metadata": {},
   "outputs": [
    {
     "name": "stdout",
     "output_type": "stream",
     "text": [
      "Processing transcription for file10-Fake.mp4...\n",
      "Started transcription for file10-Fake.mp4... Waiting for completion.\n",
      "Waiting for transcription to finish...\n",
      "Waiting for transcription to finish...\n",
      "Waiting for transcription to finish...\n",
      "Waiting for transcription to finish...\n",
      "Processing transcription for file11-Fake.mp4...\n",
      "Started transcription for file11-Fake.mp4... Waiting for completion.\n",
      "Waiting for transcription to finish...\n",
      "Waiting for transcription to finish...\n",
      "Waiting for transcription to finish...\n",
      "Waiting for transcription to finish...\n",
      "Processing transcription for file12-Real.mp4...\n",
      "Started transcription for file12-Real.mp4... Waiting for completion.\n",
      "Waiting for transcription to finish...\n",
      "Waiting for transcription to finish...\n",
      "Waiting for transcription to finish...\n",
      "Waiting for transcription to finish...\n",
      "Waiting for transcription to finish...\n",
      "Processing transcription for file13-Safe.mp4...\n",
      "Started transcription for file13-Safe.mp4... Waiting for completion.\n",
      "Waiting for transcription to finish...\n",
      "Waiting for transcription to finish...\n",
      "Waiting for transcription to finish...\n",
      "Waiting for transcription to finish...\n",
      "Waiting for transcription to finish...\n",
      "Waiting for transcription to finish...\n",
      "Processing transcription for file14-Safe.mp4...\n",
      "Started transcription for file14-Safe.mp4... Waiting for completion.\n",
      "Waiting for transcription to finish...\n",
      "Waiting for transcription to finish...\n",
      "Waiting for transcription to finish...\n",
      "Waiting for transcription to finish...\n",
      "Waiting for transcription to finish...\n",
      "Processing transcription for file15-Safe.mp4...\n",
      "Started transcription for file15-Safe.mp4... Waiting for completion.\n",
      "Waiting for transcription to finish...\n",
      "Waiting for transcription to finish...\n",
      "Waiting for transcription to finish...\n",
      "Waiting for transcription to finish...\n",
      "Waiting for transcription to finish...\n",
      "Waiting for transcription to finish...\n",
      "Processing transcription for file16-Safe.mp4...\n",
      "Started transcription for file16-Safe.mp4... Waiting for completion.\n",
      "Waiting for transcription to finish...\n",
      "Waiting for transcription to finish...\n",
      "Waiting for transcription to finish...\n",
      "Waiting for transcription to finish...\n",
      "Waiting for transcription to finish...\n"
     ]
    }
   ],
   "source": [
    "import pandas as pd\n",
    "import time\n",
    "\n",
    "# Load your CSV file with columns \"FileName\" and \"Label\"\n",
    "df = pd.read_csv(\"TikTokData.csv\")  # Replace \"your_file.csv\" with the actual path to your CSV file\n",
    "\n",
    "# Initialize an empty list to store the transcription results\n",
    "transcriptions = []\n",
    "ctr = 0\n",
    "\n",
    "# Loop through each row and get transcriptions\n",
    "for index, row in df.iterrows():\n",
    "    ctr = ctr+1\n",
    "    if ctr <= 9:\n",
    "        continue\n",
    "    \n",
    "    video_path = row[\"FileName\"]\n",
    "    print(f\"Processing transcription for {video_path}...\")\n",
    "\n",
    "    # Get the transcription (this will wait for each transcription to complete)\n",
    "    transcription = transcribe_video(video_path)\n",
    "    \n",
    "    # Append the transcription to the list\n",
    "    transcriptions.append(transcription)\n",
    "    \n",
    "    # Add a short sleep to avoid hitting API rate limits if needed (optional)\n",
    "    time.sleep(1)"
   ]
  },
  {
   "cell_type": "code",
   "execution_count": 21,
   "id": "dfa53c26-d441-49e7-a5b3-d38a13586a17",
   "metadata": {},
   "outputs": [
    {
     "data": {
      "text/plain": [
       "['news Disneyworld officially removed the drinking age in their Parks this means that anyone regardless of age can legally drink at Disney World this comes after a year-long battle with the state of Florida to get a resort exemption originally Disney was attempting to lower the drinking age to 18 however they ended up removing the drinking age all together Disney is doing this to make more money but it is proving to be very controversial the biggest concern is over people drunk driving but Disney has an ingenious solution to prevent that they will require guests under 21 to wear a special magic band that can only be removed by  nikesh members at the park exit however in order to get the Magic Band removed you must have a blood alcohol level below .02 if someone is unable to blow less than 0.02 Disney will take the guests home in a minivan however according to an official spokesperson guess who need the money man service should expect prices to be double or triple what an Uber or Lyft would cost to get them home upon dropping the guests off the Disney minivan driver will remove the special magic button and send you on your way according to experts this change is a huge win for Disney for more information click the link in our bio or visit mousetrap news.com  cam',\n",
       " \"information it's game on for everyone at first it was just random rumors about the to dating but then it got a lot more intense after Taylor started showing up to Travis's games and she didn't even show up alone she was always with his mom in the VIP section of the audience cheering for her boyfriend it's kind of a high school sweetheart love story and we are here for it now there was a lot of mystery around the too because a low we all knew something was going on we weren't sure we didn't want to make any assumptions  and they could have been just really good friends right but turns out that wasn't what was going on sources reveal the completely different story one that we liked a lot more Taylor and Travis after staying silent for so long finally broke their silence and publicly announced their love for each other some fans think that she might be taking things too fast but we think she's doing what's best for her and for that we could not have been happier the couple was recently spotted holding hands and having a romantic PDA filled date night after an SNL show  and guys it was the most adorable thing ever we are going to talk about that and much more in today's video Welcome Back to the celebrity buzz and today we are going to be talking about how Taylor Swift announced that she is dating Travis Kelce publicly but before we get to talking about all that make sure to give this video I'm sure so Taylor and Travis have allegedly been going out for a while now Taylor was actually in a long-term relationship before she got with for the fandom but we saw our queen move on after  after her breakup she was rumoured to be dating a lot of different people but it turns out all of them were just flings and rebounds until mr. Travis Kelce showed up and everything changed he literally helped her get over all the gloom and sadness and showed her a brighter side of life so in order for you guys to understand why we're so excited about this whole thing you'll need to have the context of this relationship but don't worry you won't have to watch a bunch of videos for that because we're going to give you a little recap right  so it started out with one interview that Travis did it wasn't even something serious word got out that he went to a Taylor Swift concert now this shouldn't have been a big deal and it wasn't but then he was asked about it in an interview and he revealed some very interesting things in the interview Travis said that he loved Taylor and her music and went to one of her concerts but that wasn't the shocking part he also said that he made her a friendship bracelet for her with his own personal number on it one of the bracelets  it's I made for you made our bracelet yeah if you're up on Taylor Swift concerts there are friendship bracelets and I received a bunch of them being there but I wanted to give Taylor Swift 21 with my number on it now right now your numbers in 87 or your phone number yeah you know which one but unfortunately he wasn't able to give it to her being a Taylor Swift I know you went to the chest of clouds or how was it yeah well I was disappointed that she doesn't talk before or after her shows because she has to save her voice for the 44 songs that she sings now  interview started going viral and people started shipping them instantly according to Insider sources Taylor reached out to Travis after that and connected with him after that the two started casually hanging out and getting to know each other it wasn't anything serious and they didn't think it would go anywhere but the to instantly clicked and decided to go on more dates but hold on a minute before we get on with today's video and give you the rest of the Saucy details do us a favor and make sure to share this video with a friend who  might enjoy our content and turn on post notifications while you're at it too so you don't miss out on any of our future uploads now this is where the story gets spicy Taylor decided to show up to one of Travis's games now that's nothing big right was there casually hanging out with Travis's mom yep you heard that right the two were seen cheering every time Travis scored in just having the time of their lives even Travis talked about it saying that his mom had a really good time with Taylor\",\n",
       " \"how bad is 5G for your health while you're here in horror stories but these are the reality you are putting your future at risk using 5G voluntarily the first thing I do when I get my phone is go to the settings and turn off 5G it doesn't change the value the phone any way shape or form to me and it also is saving my health at night get the phone away from you put it on airplane mode or turn it off this time is to restore and recover and you cannot do it with your cell phone on and your Wi-Fi on while you sleep\",\n",
       " \"so 5G technology if you notice before they put up the towers it was a huge multi billion dollar marketing campaign everywhere you turn on radio or TV it was non-stop ads 45 G 5G it's going to be blazing fast internet going to change our lives the whole world is going to run on 5G download speeds blah blah blah download a movie in three seconds all this bullshit is any of y'all's internet  faster than it was before  it's worse than it was before glitchy slow constant problems so do you really believe 5G was for your internet speeds\",\n",
       " \"so if you think this is going to be no big deal you're absolutely wrong the reason they're going to create this Panic is to force us to our knees to make us so uncomfortable and panic that will say yes we'll take the digital just get the money turned back on so life can go back to normal that's what the whole shutdown is for and of course they're going to blame it on the bankers he's evil Bankers came in and stole your money they're just doing the bankers are just doing what they're told okay so but they have  to create the crisis so they can ride in and save the day so they shut down the money on a Friday within three weeks to three months I don't think it'll take three months because we're so soft here we're not used to hardship and doing without here we're used to just run into the store anytime we need something so once they shut all that off and people are out of money and people are starting to starve most people would just give in willingly quick so I don't think it's going to take three months I think 32 maybe six weeks tops  but I would prepare for three months if I was you\",\n",
       " \"is 5G dangerous the general consensus is no here's why we're talking about electromagnetic radiation and electromagnetic fields this is what people mean when they bring up EMF the reason people are worried in general relates to fears around radiation at high levels which is a completely normal concern but we're talking about the frequency range of x-rays UV rays gamma radiation things that we know are harmful and these are from the high end of the electromagnetic spectrum  spectrum because that's what we're talking about here light electromagnetic radiation that we can modulate to send messages to each other we've used this method of communication since the first radio was invented in 1895 by Guglielmo Marconi and that's what 5G is it's a frequency of radio waves that we can use to communicate it's at the lower end of the electromagnetic spectrum now the radio spectrum runs from about one Hertz to three thousand Giga Hertz  and 5 gigahertz is the highest frequency of radio waves that we've been able to use so far now this higher frequency of radio wave allows us to transmit more data faster but the most important thing to know here is that these are non ionizing electromagnetic fields so they are not hazardous to your health the non-ionizing frequencies run all the way through the visible portion of the spectrum now in order for an electromagnetic field to be dangerous it needs to be an ion  sizing field and this happens at frequencies of around 3 million gigahertz think about that 5 gigahertz 23 million gigahertz this is why we need sunscreen to protect us from UV radiation screens when were using X-rays and Y gamma radiation while an excellent tool in treating cancer is also extremely dangerous to help the cells but 5G radio waves have such a low wavelength that they do not penetrate the body  5G is non-ionizing and at a lower frequency than the light that we interact with every moment of every day now it's true that some papers question the long-term effects but they're wondering about long-term effects of Technology particularly in built-up areas and wondering how this will affect us over time which is a valid question but it is a valid question of all technology of all or methods of communication new technology will always raise questions but the science is clear the frequency range is a  a few million GHz off being dangerous\",\n",
       " \"Wi-Fi is destroying your sleep yes if you have your Wi-Fi on it night which most of us do it's going to cause you to stay in a fight or flight mode which you cannot grow and repair while in fight or flight so turn your Wi-Fi off at night unplug the router get a good night's sleep and then plug it back in it will change your life\",\n",
       " 'this guy died exposing the truth     by the way this video is scripted and for entertainment purposes only stay weird']"
      ]
     },
     "execution_count": 21,
     "metadata": {},
     "output_type": "execute_result"
    }
   ],
   "source": [
    "transcriptions"
   ]
  },
  {
   "cell_type": "code",
   "execution_count": 26,
   "id": "5c521b0b-04ae-4b77-9d53-5e54406f4218",
   "metadata": {},
   "outputs": [
    {
     "name": "stdout",
     "output_type": "stream",
     "text": [
      "           FileName Label                                      Transcription\n",
      "0    file1-Fake.mp4  fake  used to be a cast member at DisneyWorld doing ...\n",
      "1    file2-Fake.mp4  fake  your eyes start shaking suddenly throw your ph...\n",
      "2    file3-Fake.mp4  fake  elevator wire is broken and you are inside in ...\n",
      "3    file4-Fake.mp4  fake  damn minute I'm finna bust your ass not sick u...\n",
      "4    file5-Fake.mp4  fake  yeah we're to flip all you how I mean Hawaii R...\n",
      "5    file6-Real.mp4  real  I told you to ground it what now give me your ...\n",
      "6    file7-Fake.mp4  fake  this tiny bedroom barely fits a bed leaving no...\n",
      "7    file8-Fake.mp4  fake                                               None\n",
      "8    file9-Fake.mp4  fake                                               None\n",
      "9   file10-Fake.mp4  fake                                               None\n",
      "10  file11-Fake.mp4  fake                                               None\n",
      "11  file12-Real.mp4  real                                               None\n",
      "12  file13-Safe.mp4  safe                                               None\n",
      "13  file14-Safe.mp4  safe                                               None\n",
      "14  file15-Safe.mp4  safe                                               None\n",
      "15  file16-Safe.mp4  safe                                               None\n"
     ]
    }
   ],
   "source": [
    "for _ in range(9):\n",
    "    transcriptions.append(None)  # or np.nan for NaN values\n",
    "\n",
    "# Add the \"Transcription\" column to the DataFrame\n",
    "df[\"Transcription\"] = transcriptions\n",
    "\n",
    "# Save the updated DataFrame back to a CSV file\n",
    "df.to_csv(\"NewTikTokData2.csv\", index=False)  # Replace \"updated_file.csv\" with your desired output file name\n",
    "\n",
    "# Display the updated DataFrame\n",
    "print(df)\n"
   ]
  }
 ],
 "metadata": {
  "kernelspec": {
   "display_name": "Python 3 (ipykernel)",
   "language": "python",
   "name": "python3"
  },
  "language_info": {
   "codemirror_mode": {
    "name": "ipython",
    "version": 3
   },
   "file_extension": ".py",
   "mimetype": "text/x-python",
   "name": "python",
   "nbconvert_exporter": "python",
   "pygments_lexer": "ipython3",
   "version": "3.11.6"
  }
 },
 "nbformat": 4,
 "nbformat_minor": 5
}
