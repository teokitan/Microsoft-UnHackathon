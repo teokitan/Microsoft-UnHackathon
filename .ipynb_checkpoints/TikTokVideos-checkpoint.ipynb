{
 "cells": [
  {
   "cell_type": "markdown",
   "id": "412bf0fc-cd03-4fc5-963c-4800638a87f8",
   "metadata": {},
   "source": [
    "We will try to use a dataset of TikTok videos and classify each as 'safe', or 'misinformation'."
   ]
  },
  {
   "cell_type": "code",
   "execution_count": 10,
   "id": "fe6ae543-6110-4ca6-ad4c-bfce04a59a1a",
   "metadata": {},
   "outputs": [],
   "source": [
    "import os\n",
    "\n",
    "nest_asyncio.apply()\n",
    "\n",
    "from google.cloud import videointelligence_v1 as videointelligence\n",
    "\n",
    "def transcribe_video(video_path):\n",
    "    # Initialize the Video Intelligence API client\n",
    "    client = videointelligence.VideoIntelligenceServiceClient()\n",
    "\n",
    "    # Read the file and load it into the API\n",
    "    with open(video_path, \"rb\") as video_file:\n",
    "        input_content = video_file.read()\n",
    "\n",
    "    # Configure the request for speech transcription\n",
    "    features = [videointelligence.Feature.SPEECH_TRANSCRIPTION]\n",
    "    config = videointelligence.SpeechTranscriptionConfig(\n",
    "        language_code=\"en-US\"  # Modify this if your video is in a different language\n",
    "    )\n",
    "    video_context = videointelligence.VideoContext(speech_transcription_config=config)\n",
    "\n",
    "    # Execute the request\n",
    "    operation = client.annotate_video(\n",
    "        request={\"features\": features, \"input_content\": input_content, \"video_context\": video_context}\n",
    "    )\n",
    "\n",
    "    print(\"Processing video for transcription...\")\n",
    "    result = operation.result(timeout=300)  # Adjust timeout if needed\n",
    "\n",
    "    # Process transcription results\n",
    "    transcription_text = \"\"\n",
    "    for annotation in result.annotation_results[0].speech_transcriptions:\n",
    "        for alternative in annotation.alternatives:\n",
    "            transcription_text += alternative.transcript + \"\\n\"\n",
    "\n",
    "    return transcription_text"
   ]
  },
  {
   "cell_type": "code",
   "execution_count": 15,
   "id": "dbe20000-0af9-4cff-8095-28d5301bee5f",
   "metadata": {},
   "outputs": [
    {
     "name": "stdout",
     "output_type": "stream",
     "text": [
      "Processing transcription for file1-Fake.mp4...\n"
     ]
    },
    {
     "ename": "KeyboardInterrupt",
     "evalue": "",
     "output_type": "error",
     "traceback": [
      "\u001b[0;31m---------------------------------------------------------------------------\u001b[0m",
      "\u001b[0;31mKeyboardInterrupt\u001b[0m                         Traceback (most recent call last)",
      "Cell \u001b[0;32mIn[15], line 18\u001b[0m\n\u001b[1;32m     15\u001b[0m \u001b[38;5;66;03m# Get the transcription (this will wait for each transcription to complete)\u001b[39;00m\n\u001b[1;32m     16\u001b[0m transcription \u001b[38;5;241m=\u001b[39m transcribe_video(video_path)\n\u001b[0;32m---> 18\u001b[0m \u001b[43mtime\u001b[49m\u001b[38;5;241;43m.\u001b[39;49m\u001b[43msleep\u001b[49m\u001b[43m(\u001b[49m\u001b[38;5;241;43m100\u001b[39;49m\u001b[43m)\u001b[49m\n\u001b[1;32m     20\u001b[0m \u001b[38;5;66;03m# Append the transcription to the list\u001b[39;00m\n\u001b[1;32m     21\u001b[0m transcriptions\u001b[38;5;241m.\u001b[39mappend(transcription)\n",
      "\u001b[0;31mKeyboardInterrupt\u001b[0m: "
     ]
    }
   ],
   "source": [
    "import pandas as pd\n",
    "import time\n",
    "\n",
    "# Load your CSV file with columns \"FileName\" and \"Label\"\n",
    "df = pd.read_csv(\"TikTokData.csv\")  # Replace \"your_file.csv\" with the actual path to your CSV file\n",
    "\n",
    "# Initialize an empty list to store the transcription results\n",
    "transcriptions = []\n",
    "\n",
    "# Loop through each row and get transcriptions\n",
    "for index, row in df.iterrows():\n",
    "    video_path = row[\"FileName\"]\n",
    "    print(f\"Processing transcription for {video_path}...\")\n",
    "\n",
    "    # Get the transcription (this will wait for each transcription to complete)\n",
    "    transcription = transcribe_video(video_path)\n",
    "\n",
    "    time.sleep(100)\n",
    "    \n",
    "    # Append the transcription to the list\n",
    "    transcriptions.append(transcription)\n",
    "\n",
    "    # Add the \"Transcription\" column to the DataFrame\n",
    "    df[\"Transcription\"] = transcriptions\n",
    "    \n",
    "    # Save the updated DataFrame back to a CSV file\n",
    "    df.to_csv(\"NewTikTokData.csv\", index=False)  # Replace \"updated_file.csv\" with your desired output file name\n",
    "    \n",
    "    # Add a short sleep to avoid hitting API rate limits if needed (optional)\n",
    "    time.sleep(1)\n",
    "\n",
    "# Display the updated DataFrame\n",
    "print(df)\n"
   ]
  }
 ],
 "metadata": {
  "kernelspec": {
   "display_name": "Python 3 (ipykernel)",
   "language": "python",
   "name": "python3"
  },
  "language_info": {
   "codemirror_mode": {
    "name": "ipython",
    "version": 3
   },
   "file_extension": ".py",
   "mimetype": "text/x-python",
   "name": "python",
   "nbconvert_exporter": "python",
   "pygments_lexer": "ipython3",
   "version": "3.11.6"
  }
 },
 "nbformat": 4,
 "nbformat_minor": 5
}
